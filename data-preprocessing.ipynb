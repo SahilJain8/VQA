{
 "cells": [
  {
   "cell_type": "code",
   "execution_count": null,
   "id": "initial_id",
   "metadata": {},
   "outputs": [],
   "source": [
    "import os\n",
    "import cv2\n",
    "from torchvision.models import vgg16,VGG16_Weights\n",
    "from torchvision.transforms import transforms\n",
    "import matplotlib.pyplot as plt\n",
    "import numpy as np\n",
    "import torch.nn as nn\n",
    "from PIL import Image \n",
    "import torch\n",
    "from tqdm.notebook import tqdm"
   ]
  },
  {
   "cell_type": "code",
   "execution_count": null,
   "id": "7e42b8cd3742632f",
   "metadata": {
    "collapsed": false
   },
   "outputs": [],
   "source": [
    "base_model = vgg16(weights=VGG16_Weights.DEFAULT)\n",
    "\n",
    "feature_model = nn.Sequential(*list(base_model.children())[:-1]).to('cuda')\n",
    "\n",
    "feature_model.eval()"
   ]
  },
  {
   "cell_type": "code",
   "execution_count": null,
   "id": "f58023b0-4396-4347-ac12-2ca28e96726a",
   "metadata": {},
   "outputs": [],
   "source": [
    "print(feature_model)"
   ]
  },
  {
   "cell_type": "code",
   "execution_count": null,
   "id": "4c03b797-e1cf-4a08-98d2-4063e2c3339b",
   "metadata": {},
   "outputs": [],
   "source": [
    "root_dir = \"dataset/\"\n",
    "\n",
    "image_dir = os.path.join(root_dir,\"images\")"
   ]
  },
  {
   "cell_type": "code",
   "execution_count": null,
   "id": "d942e059-76bc-4ef5-96ff-733c80afa23f",
   "metadata": {},
   "outputs": [],
   "source": [
    "transformation = transforms.Compose([\n",
    "    transforms.Resize(224),\n",
    "    transforms.ToTensor(),\n",
    "    transforms.Normalize(mean=[0.485, 0.456, 0.406], std=[0.229, 0.224, 0.225])\n",
    "])"
   ]
  },
  {
   "cell_type": "code",
   "execution_count": null,
   "id": "281387bf-ad2a-4832-b769-c4dcd94d7e46",
   "metadata": {},
   "outputs": [],
   "source": []
  },
  {
   "cell_type": "code",
   "execution_count": null,
   "id": "e6ca0870-08db-4356-b01f-ae64b5cf21a6",
   "metadata": {},
   "outputs": [],
   "source": [
    "features = {}\n",
    "for file_name in  tqdm(os.listdir(image_dir)):\n",
    "\n",
    "    img_path = os.path.join(image_dir,file_name)  #Set the image path\n",
    "    img = Image.open(img_path) #Read image\n",
    "    if img.mode == 'L':\n",
    "        img = img.convert('RGB')\n",
    "    img = transformation(img) #apply trasnformation\n",
    "    img = img.to('cuda')\n",
    "    with torch.no_grad():     \n",
    "        outputs = feature_model(img.unsqueeze(0))\n",
    "    img_id = file_name.split('_')[2]\n",
    "    img_id = int(img_id.split('.')[0])\n",
    "    features[img_id] = outputs\n"
   ]
  },
  {
   "cell_type": "code",
   "execution_count": null,
   "id": "ee822e93-6b0c-457b-a4e1-df52cd50db91",
   "metadata": {},
   "outputs": [],
   "source": [
    "import pickle"
   ]
  },
  {
   "cell_type": "code",
   "execution_count": null,
   "id": "a7505395-3ba6-48f9-946b-16dc5572acba",
   "metadata": {},
   "outputs": [],
   "source": [
    "pickle.dump(features, open(os.path.join(root_dir, 'features.pkl'), 'wb'))\n"
   ]
  },
  {
   "cell_type": "code",
   "execution_count": null,
   "id": "bedfa8ac-515c-4539-b326-720ebda06d44",
   "metadata": {},
   "outputs": [],
   "source": [
    "with open('dataset/features.pkl','rb') as f:\n",
    "    features = pickle.load(f)"
   ]
  },
  {
   "cell_type": "code",
   "execution_count": null,
   "outputs": [],
   "source": [
    "output = features[9]"
   ],
   "metadata": {
    "collapsed": false
   },
   "id": "a26308e22697c409"
  },
  {
   "cell_type": "code",
   "execution_count": null,
   "outputs": [],
   "source": [
    "output.data"
   ],
   "metadata": {
    "collapsed": false
   },
   "id": "578e1f6893e5db90"
  },
  {
   "cell_type": "code",
   "execution_count": null,
   "outputs": [],
   "source": [
    "processed = []\n",
    "for feature_map in output:\n",
    "    print(feature_map.shape)\n",
    "    print(feature_map.shape)\n",
    "    gray_scale = torch.sum(feature_map,0)\n",
    "    print(gray_scale)\n",
    "    gray_scale = gray_scale / feature_map.shape[0]\n",
    "    processed.append(gray_scale.data.cpu().numpy())\n",
    "for fm in processed:\n",
    "    print(fm.shape)"
   ],
   "metadata": {
    "collapsed": false
   },
   "id": "4b36257272c1bac"
  },
  {
   "cell_type": "code",
   "execution_count": null,
   "outputs": [],
   "source": [],
   "metadata": {
    "collapsed": false
   },
   "id": "27ada8f63c51946f"
  },
  {
   "cell_type": "code",
   "execution_count": null,
   "outputs": [],
   "source": [
    "fig = plt.figure(figsize=(30, 50))\n",
    "for i in range(len(processed)):\n",
    "    a = fig.add_subplot(5, 4, i+1)\n",
    "    imgplot = plt.imshow(processed[i])\n",
    "    a.axis(\"off\")\n"
   ],
   "metadata": {
    "collapsed": false
   },
   "id": "85cb6e2f37f7fe3c"
  },
  {
   "cell_type": "code",
   "execution_count": null,
   "outputs": [],
   "source": [],
   "metadata": {
    "collapsed": false
   },
   "id": "af4080ca713b86a0"
  }
 ],
 "metadata": {
  "kernelspec": {
   "display_name": "Python 3 (ipykernel)",
   "language": "python",
   "name": "python3"
  },
  "language_info": {
   "codemirror_mode": {
    "name": "ipython",
    "version": 3
   },
   "file_extension": ".py",
   "mimetype": "text/x-python",
   "name": "python",
   "nbconvert_exporter": "python",
   "pygments_lexer": "ipython3",
   "version": "3.11.5"
  }
 },
 "nbformat": 4,
 "nbformat_minor": 5
}
