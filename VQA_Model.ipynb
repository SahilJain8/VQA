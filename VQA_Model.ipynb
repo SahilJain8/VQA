{
 "cells": [
  {
   "cell_type": "code",
   "execution_count": 2,
   "id": "initial_id",
   "metadata": {
    "ExecuteTime": {
     "end_time": "2023-10-22T13:26:43.378930400Z",
     "start_time": "2023-10-22T13:26:39.841487300Z"
    }
   },
   "outputs": [],
   "source": [
    "import torch.nn as nn\n",
    "from torchvision.models import vgg16,VGG16_Weights\n",
    "from torchvision.transforms import transforms\n",
    "from PIL import Image\n",
    "import torch"
   ]
  },
  {
   "cell_type": "code",
   "execution_count": 152,
   "id": "cf887e91ef7decc4",
   "metadata": {
    "collapsed": false,
    "ExecuteTime": {
     "end_time": "2023-10-22T13:57:33.683366500Z",
     "start_time": "2023-10-22T13:57:32.730479500Z"
    }
   },
   "outputs": [],
   "source": [
    "import torch.nn as nn\n",
    "import torchvision.models as models\n",
    "\n",
    "class Image_Model(nn.Module):\n",
    "    def __init__(self):\n",
    "        super().__init__()\n",
    "        self.base_image_model = models.vgg16(weights = models.VGG16_Weights.DEFAULT)\n",
    "        \n",
    "        self.feature_extractor = nn.Sequential(*list(self.base_image_model.children())[:-1])\n",
    "        self.flat = nn.Flatten()\n",
    "        self.fc = nn.Sequential(\n",
    "            nn.Linear(in_features=49,out_features=8),\n",
    "            nn.ReLU()\n",
    "        )\n",
    "\n",
    "    def forward(self, x):\n",
    "        x = self.feature_extractor(x)\n",
    "        x = x.view(x.size(0), -1)\n",
    "        x = x.view(x.size(0), -1)\n",
    "        x = self.fc(x)\n",
    "        return x\n",
    "\n",
    "# Create an instance of the Image_Model\n",
    "model = Image_Model().to('cuda')\n"
   ]
  },
  {
   "cell_type": "code",
   "execution_count": 133,
   "id": "9d26c56f2de2c98b",
   "metadata": {
    "collapsed": false,
    "ExecuteTime": {
     "end_time": "2023-10-22T13:53:09.572239400Z",
     "start_time": "2023-10-22T13:53:09.568913400Z"
    }
   },
   "outputs": [],
   "source": [
    "trasformation = transforms.Compose(\n",
    "    [\n",
    "       transforms.Resize((256, 256)),\n",
    "        transforms.ToTensor(),\n",
    "        transforms.Normalize([0.5,0.5,0.5],\n",
    "                             [0.5,0.5,0.5])\n",
    "    ]\n",
    ")"
   ]
  },
  {
   "cell_type": "code",
   "execution_count": 134,
   "id": "1a5e1807ec4ce826",
   "metadata": {
    "collapsed": false,
    "ExecuteTime": {
     "end_time": "2023-10-22T13:53:09.713381700Z",
     "start_time": "2023-10-22T13:53:09.707865600Z"
    }
   },
   "outputs": [],
   "source": [
    "image = Image.open(\"dataset/images/COCO_train2014_000000000009.jpg\")"
   ]
  },
  {
   "cell_type": "code",
   "execution_count": 135,
   "id": "580b82bccf22f474",
   "metadata": {
    "collapsed": false,
    "ExecuteTime": {
     "end_time": "2023-10-22T13:53:10.096632900Z",
     "start_time": "2023-10-22T13:53:10.042280200Z"
    }
   },
   "outputs": [],
   "source": [
    "image = trasformation(image)\n"
   ]
  },
  {
   "cell_type": "code",
   "execution_count": 153,
   "id": "87487f4a-cd7d-42ff-95aa-719561317ddf",
   "metadata": {
    "scrolled": true,
    "ExecuteTime": {
     "end_time": "2023-10-22T13:57:36.502700700Z",
     "start_time": "2023-10-22T13:57:36.494468700Z"
    }
   },
   "outputs": [],
   "source": [
    "with torch.no_grad():\n",
    "    image = image.to('cuda')\n",
    "    output = model(image)"
   ]
  },
  {
   "cell_type": "code",
   "execution_count": 154,
   "id": "e6716829-062a-48aa-817a-e66c5a007bb9",
   "metadata": {
    "ExecuteTime": {
     "end_time": "2023-10-22T13:57:38.771927900Z",
     "start_time": "2023-10-22T13:57:38.735865100Z"
    }
   },
   "outputs": [
    {
     "data": {
      "text/plain": "512"
     },
     "execution_count": 154,
     "metadata": {},
     "output_type": "execute_result"
    }
   ],
   "source": [
    "len(output)"
   ]
  },
  {
   "cell_type": "code",
   "execution_count": 155,
   "id": "2edb9c0b-efb9-470c-a908-00f1cefb4520",
   "metadata": {
    "ExecuteTime": {
     "end_time": "2023-10-22T13:57:39.847668400Z",
     "start_time": "2023-10-22T13:57:39.842065100Z"
    }
   },
   "outputs": [
    {
     "data": {
      "text/plain": "torch.Size([512, 8])"
     },
     "execution_count": 155,
     "metadata": {},
     "output_type": "execute_result"
    }
   ],
   "source": [
    "output.shape"
   ]
  },
  {
   "cell_type": "code",
   "execution_count": null,
   "outputs": [],
   "source": [],
   "metadata": {
    "collapsed": false
   },
   "id": "32a576d214f8f79e"
  }
 ],
 "metadata": {
  "kernelspec": {
   "display_name": "Python 3 (ipykernel)",
   "language": "python",
   "name": "python3"
  },
  "language_info": {
   "codemirror_mode": {
    "name": "ipython",
    "version": 3
   },
   "file_extension": ".py",
   "mimetype": "text/x-python",
   "name": "python",
   "nbconvert_exporter": "python",
   "pygments_lexer": "ipython3",
   "version": "3.11.5"
  }
 },
 "nbformat": 4,
 "nbformat_minor": 5
}
